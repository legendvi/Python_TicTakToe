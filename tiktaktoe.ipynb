{
  "nbformat": 4,
  "nbformat_minor": 0,
  "metadata": {
    "colab": {
      "name": "tiktaktoe.ipynb",
      "provenance": [],
      "collapsed_sections": [],
      "authorship_tag": "ABX9TyMimzPBW5IBP4p1Y9X0j/p7",
      "include_colab_link": true
    },
    "kernelspec": {
      "name": "python3",
      "display_name": "Python 3"
    }
  },
  "cells": [
    {
      "cell_type": "markdown",
      "metadata": {
        "id": "view-in-github",
        "colab_type": "text"
      },
      "source": [
        "<a href=\"https://colab.research.google.com/github/legendvi/Python_TicTakToe/blob/master/tiktaktoe.ipynb\" target=\"_parent\"><img src=\"https://colab.research.google.com/assets/colab-badge.svg\" alt=\"Open In Colab\"/></a>"
      ]
    },
    {
      "cell_type": "code",
      "metadata": {
        "id": "---RbxGJn3AI"
      },
      "source": [
        "def display_board(board):\n",
        "  print('WELCOME, to this Awesome tic-tak-toe game')\n",
        "  print('Player 1 is:',player1,'  player 2 is:',player2)\n",
        "  print(board[1]+' |'+board[2]+' |'+board[3])\n",
        "  print('--|--|--')\n",
        "  print(board[4]+' |'+board[5]+' |'+board[6])\n",
        "  print('--|--|--')\n",
        "  print(board[7]+' |'+board[8]+' |'+board[9])\n",
        "\n"
      ],
      "execution_count": null,
      "outputs": []
    },
    {
      "cell_type": "code",
      "metadata": {
        "id": "NopFEBbvr5xK"
      },
      "source": [
        "def first_choice():\n",
        "  while True:\n",
        "    choice=input('Player 1 choose X or O: ')\n",
        "    if choice.lower()=='o':\n",
        "      return('O','X')\n",
        "    elif choice.lower()=='x':\n",
        "      return('X','O')\n",
        "    else:\n",
        "      print('Invalid Input')\n",
        "  return player1,player2"
      ],
      "execution_count": null,
      "outputs": []
    },
    {
      "cell_type": "code",
      "metadata": {
        "id": "paw0nZAQtpiS"
      },
      "source": [
        "def get_index(c,board):\n",
        "  if c==3:\n",
        "    c=1\n",
        "  while True:\n",
        "    index=input(f'Player {c} Enter the index to place your choice(X/O): ')\n",
        "    if index.isdigit()==False:\n",
        "      print('Index out of bound. Please select correcr index')\n",
        "    elif int(index)>=10 or int(index)<=0:\n",
        "      print('Index out of bound. Please select correcr index')\n",
        "    elif board[int(index)]=='X' or board[int(index)]=='O':\n",
        "      print('Index already filled')\n",
        "    else:\n",
        "      index=int(index)\n",
        "      return index,c"
      ],
      "execution_count": null,
      "outputs": []
    },
    {
      "cell_type": "code",
      "metadata": {
        "id": "4NzFaGhpw_KC"
      },
      "source": [
        "def replacement(board,index,c):\n",
        "  \n",
        "  if c==1:\n",
        "    c=2\n",
        "    board[index]=player1\n",
        "  else:\n",
        "    c=1\n",
        "    board[index]=player2\n",
        "  return c"
      ],
      "execution_count": null,
      "outputs": []
    },
    {
      "cell_type": "code",
      "metadata": {
        "id": "MowlGZQpEWSg"
      },
      "source": [
        "#def full(board):\n",
        " # board=set(board)\n",
        " # print(board)\n",
        " # if board ==['#','X','O']:\n",
        " #   return True\n",
        " # else:\n",
        " # return False"
      ],
      "execution_count": null,
      "outputs": []
    },
    {
      "cell_type": "code",
      "metadata": {
        "id": "Gx_NWiADylus"
      },
      "source": [
        "def check_winner(board,t):\n",
        "  t=t+1\n",
        "  if board[1]==player1 and board[2]== player1 and board[3]==player1:\n",
        "    winner= player1\n",
        "  elif board[4]==player1 and board[5]== player1 and board[6]==player1:\n",
        "    winner= player1\n",
        "  elif board[7]==player1 and board[8]== player1 and board[9]==player1:\n",
        "    winner= player1\n",
        "  elif board[1]==player1 and board[4]== player1 and board[7]==player1:\n",
        "    winner= player1\n",
        "  elif board[1]==player1 and board[5]== player1 and board[9]==player1:\n",
        "    winner= player1\n",
        "  elif board[2]==player1 and board[5]== player1 and board[8]==player1:\n",
        "    winner= player1\n",
        "  elif board[3]==player1 and board[6]== player1 and board[9]==player1:\n",
        "    winner= player1\n",
        "  elif board[3]==player1 and board[5]== player1 and board[7]==player1:\n",
        "    winner= player1\n",
        "  elif board[1]==player2 and board[2]== player2 and board[3]==player2:\n",
        "    winner= player2\n",
        "  elif board[4]==player2 and board[5]== player2 and board[6]==player2:\n",
        "    winner= player2\n",
        "  elif board[7]==player2 and board[8]== player2 and board[9]==player2:\n",
        "    winner= player2\n",
        "  elif board[1]==player2 and board[4]== player2 and board[7]==player2:\n",
        "    winner= player2\n",
        "  elif board[1]==player2 and board[5]== player2 and board[9]==player2:\n",
        "    winner= player2\n",
        "  elif board[2]==player2 and board[5]== player2 and board[8]==player2:\n",
        "    winner= player2\n",
        "  elif board[3]==player2 and board[6]== player2 and board[9]==player2:\n",
        "    winner= player2\n",
        "  elif board[3]==player2 and board[5]== player2 and board[7]==player2:\n",
        "    winner= player2\n",
        "  elif t==9:\n",
        "    winner=True\n",
        "  else:\n",
        "    winner=False\n",
        "  return winner,t"
      ],
      "execution_count": null,
      "outputs": []
    },
    {
      "cell_type": "code",
      "metadata": {
        "id": "sMNUMIgp2SKA"
      },
      "source": [
        "def play_again(winner):\n",
        "    if winner==player1:\n",
        "      print('Congratulation Player 1\\0/, you won the game')\n",
        "    elif winner==player2:\n",
        "      print('Congratulation Player 2 \\0/, you won the game')\n",
        "    else:\n",
        "      print('Great Play!! The game is tied')\n",
        "    while True:\n",
        "      choice=input('Do you want to play again(Y or N): ')\n",
        "      if choice.upper()=='Y' :\n",
        "        return True\n",
        "      elif choice.upper()=='N':\n",
        "        return False\n",
        "      else:\n",
        "        print('Invalid Choice!! please choose again') "
      ],
      "execution_count": null,
      "outputs": []
    },
    {
      "cell_type": "code",
      "metadata": {
        "colab": {
          "base_uri": "https://localhost:8080/"
        },
        "id": "6ZZ8RN-C4qga",
        "outputId": "8a996d10-b2d1-426e-f9f0-99dadc98a74a"
      },
      "source": [
        "#main block\n",
        "from IPython.display import clear_output\n",
        "\n",
        "nextgame=True\n",
        "while nextgame==True:\n",
        "  clear_output()\n",
        "  board=['#',' ',' ',' ',' ',' ',' ',' ',' ',' ']\n",
        "  player1=''\n",
        "  player2=''\n",
        "  display_board(board)\n",
        "  player1,player2=first_choice()\n",
        "  clear_output()\n",
        "  display_board(board)\n",
        "  iswinner=False\n",
        "  t=0\n",
        "  c=1\n",
        "  while iswinner==False:\n",
        "\n",
        "    index,c=get_index(c,board)\n",
        "    c= replacement(board,index,c)\n",
        "    iswinner,t=check_winner(board,t)\n",
        "    clear_output()\n",
        "    display_board(board)\n",
        "  nextgame=play_again(iswinner)\n",
        " \n"
      ],
      "execution_count": null,
      "outputs": [
        {
          "output_type": "stream",
          "text": [
            "WELCOME, to this Awesome tic-tak-toe game\n",
            "Player 1 is: X   player 2 is: O\n",
            "X |O |O\n",
            "--|--|--\n",
            "  |X | \n",
            "--|--|--\n",
            "  |  |X\n",
            "Congratulation Player 1\u0000/, you won the game\n",
            "Do you want to play again(Y or N): n\n"
          ],
          "name": "stdout"
        }
      ]
    },
    {
      "cell_type": "code",
      "metadata": {
        "id": "sSrHOHvrwJ1j"
      },
      "source": [
        ""
      ],
      "execution_count": null,
      "outputs": []
    }
  ]
}